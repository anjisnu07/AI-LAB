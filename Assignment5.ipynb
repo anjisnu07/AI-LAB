{
 "cells": [
  {
   "cell_type": "code",
   "execution_count": 26,
   "metadata": {},
   "outputs": [],
   "source": [
    "def issafe(board,row,col,n):\n",
    "    \n",
    "    for i in range(col):\n",
    "        if(board[row][i]==1):\n",
    "            return False\n",
    "    for i,j in zip(range(row,-1,-1),range(col,-1,-1)):\n",
    "        if(board[i][j]==1):\n",
    "            return False\n",
    "    for i,j in zip(range(row,n,1),range(col,-1,-1)):\n",
    "        if(board[i][j]==1):\n",
    "            return False\n",
    "    return True"
   ]
  },
  {
   "cell_type": "code",
   "execution_count": 49,
   "metadata": {},
   "outputs": [],
   "source": [
    "def n_queen_solve(board,col,soln,n):\n",
    "    if(col==n):\n",
    "        soln.append([col[:] for col in board])\n",
    "        return\n",
    "    for i in range(n):\n",
    "        if(issafe(board,i,col,n)==1):\n",
    "            board[i][col]=1\n",
    "            n_queen_solve(board,col+1,soln,n)\n",
    "            board[i][col]=0\n",
    "    "
   ]
  },
  {
   "cell_type": "code",
   "execution_count": 50,
   "metadata": {},
   "outputs": [],
   "source": [
    "def n_queen(n):\n",
    "    board=[[0]*n for _ in range(n)]\n",
    "    soln=[]\n",
    "    count=1\n",
    "    n_queen_solve(board,0,soln,n)\n",
    "    if not soln:\n",
    "        print(\"NO soln exist\")\n",
    "        return\n",
    "    else:\n",
    "        for sol in soln:\n",
    "            print(f\"solution count:{count}\")\n",
    "            count=count+1\n",
    "            for i in sol:\n",
    "                for cell in i:\n",
    "                    if(cell==1):\n",
    "                        print(\"Q\",end=\" \")\n",
    "                    else:\n",
    "                        print(\".\",end=\" \")\n",
    "                print()\n"
   ]
  },
  {
   "cell_type": "code",
   "execution_count": 52,
   "metadata": {},
   "outputs": [
    {
     "name": "stdout",
     "output_type": "stream",
     "text": [
      "solution count:1\n",
      ". . Q . \n",
      "Q . . . \n",
      ". . . Q \n",
      ". Q . . \n",
      "solution count:2\n",
      ". Q . . \n",
      ". . . Q \n",
      "Q . . . \n",
      ". . Q . \n"
     ]
    }
   ],
   "source": [
    "n_queen(4)"
   ]
  },
  {
   "cell_type": "code",
   "execution_count": null,
   "metadata": {},
   "outputs": [],
   "source": []
  }
 ],
 "metadata": {
  "kernelspec": {
   "display_name": "Python 3",
   "language": "python",
   "name": "python3"
  },
  "language_info": {
   "codemirror_mode": {
    "name": "ipython",
    "version": 3
   },
   "file_extension": ".py",
   "mimetype": "text/x-python",
   "name": "python",
   "nbconvert_exporter": "python",
   "pygments_lexer": "ipython3",
   "version": "3.10.5"
  }
 },
 "nbformat": 4,
 "nbformat_minor": 2
}
