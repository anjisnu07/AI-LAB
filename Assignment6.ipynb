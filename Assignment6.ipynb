{
 "cells": [
  {
   "cell_type": "code",
   "execution_count": 25,
   "metadata": {},
   "outputs": [],
   "source": [
    "class node:\n",
    "    def __init__(self,value,name,level,ismax):\n",
    "        self.level=level\n",
    "        self.name=name\n",
    "        self.value=value\n",
    "        self.ismax=ismax\n",
    "        self.child=[]\n",
    "        self.optimal_path=[]\n",
    "    def add_child(self,list):\n",
    "        for li in list:\n",
    "            self.child.append(li)"
   ]
  },
  {
   "cell_type": "code",
   "execution_count": 26,
   "metadata": {},
   "outputs": [],
   "source": [
    "import math"
   ]
  },
  {
   "cell_type": "code",
   "execution_count": 27,
   "metadata": {},
   "outputs": [],
   "source": [
    "A=node(math.inf,'A',1,True)\n",
    "B=node(-math.inf,'B',2,False)\n",
    "C=node(-math.inf,'C',2,False)\n",
    "D=node(-math.inf,'D',2,False)\n",
    "E=node(math.inf,'E',3,True)\n",
    "F=node(math.inf,'F',3,True)\n",
    "G=node(math.inf,'G',3,True)\n",
    "H=node(math.inf,'H',3,True)\n",
    "I=node(math.inf,'I',3,True)\n",
    "J=node(math.inf,'J',3,True)\n",
    "L=node(2,'L',4,False)\n",
    "M=node(3,'M',4,False)\n",
    "N=node(5,'N',4,False)\n",
    "O=node(9,'O',4,False)\n",
    "P=node(0,'P',4,False)\n",
    "Q=node(7,'Q',4,False)\n",
    "R=node(4,'R',4,False)\n",
    "S=node(2,'S',4,False)\n",
    "T=node(1,'T',4,False)\n",
    "U=node(5,'U',4,False)\n",
    "V=node(6,'V',4,False)\n",
    "\n"
   ]
  },
  {
   "cell_type": "code",
   "execution_count": 28,
   "metadata": {},
   "outputs": [],
   "source": [
    "A.add_child([B,C,D])\n",
    "B.add_child([E,F])\n",
    "C.add_child([G,H])\n",
    "D.add_child([I,J])\n",
    "E.add_child([L,M])\n",
    "F.add_child([N,O])\n",
    "G.add_child([P])\n",
    "H.add_child([Q,R])\n",
    "I.add_child([S,T])\n",
    "J.add_child([U,V])"
   ]
  },
  {
   "cell_type": "code",
   "execution_count": 29,
   "metadata": {},
   "outputs": [],
   "source": [
    "def print_tree(root):\n",
    "    val=\"\\t\"*(root.level-1)+repr(str(root.name)+'('+str(root.value)+')')+\"\\n\"\n",
    "    for c in root.child:\n",
    "        val+=print_tree(c)\n",
    "    return val"
   ]
  },
  {
   "cell_type": "code",
   "execution_count": 30,
   "metadata": {},
   "outputs": [
    {
     "name": "stdout",
     "output_type": "stream",
     "text": [
      "'A(inf)'\n",
      "\t'B(-inf)'\n",
      "\t\t'E(inf)'\n",
      "\t\t\t'L(2)'\n",
      "\t\t\t'M(3)'\n",
      "\t\t'F(inf)'\n",
      "\t\t\t'N(5)'\n",
      "\t\t\t'O(9)'\n",
      "\t'C(-inf)'\n",
      "\t\t'G(inf)'\n",
      "\t\t\t'P(0)'\n",
      "\t\t'H(inf)'\n",
      "\t\t\t'Q(7)'\n",
      "\t\t\t'R(4)'\n",
      "\t'D(-inf)'\n",
      "\t\t'I(inf)'\n",
      "\t\t\t'S(2)'\n",
      "\t\t\t'T(1)'\n",
      "\t\t'J(inf)'\n",
      "\t\t\t'U(5)'\n",
      "\t\t\t'V(6)'\n",
      "\n"
     ]
    }
   ],
   "source": [
    "print(print_tree(A))"
   ]
  },
  {
   "cell_type": "code",
   "execution_count": 31,
   "metadata": {},
   "outputs": [],
   "source": [
    "def minmax(root):\n",
    "    if not root:\n",
    "        return\n",
    "    if not root.child:\n",
    "        root.optimal_path = [root.name]\n",
    "        return root.value\n",
    "    if root.ismax:\n",
    "        val = -math.inf\n",
    "        optimal_path = []\n",
    "        for child in root.child:\n",
    "            child_value = minmax(child)\n",
    "            if child_value > val:\n",
    "                val = child_value\n",
    "                optimal_path = child.optimal_path\n",
    "        root.value = val\n",
    "        root.optimal_path = [root.name] + optimal_path\n",
    "        return val\n",
    "    else:\n",
    "        val = math.inf\n",
    "        optimal_path = []\n",
    "        for child in root.child:\n",
    "            child_value = minmax(child)\n",
    "            if child_value < val:\n",
    "                val = child_value\n",
    "                optimal_path = child.optimal_path\n",
    "        root.value = val\n",
    "        root.optimal_path = [root.name] + optimal_path\n",
    "        return val"
   ]
  },
  {
   "cell_type": "code",
   "execution_count": 32,
   "metadata": {},
   "outputs": [
    {
     "data": {
      "text/plain": [
       "3"
      ]
     },
     "execution_count": 32,
     "metadata": {},
     "output_type": "execute_result"
    }
   ],
   "source": [
    "optimal_path=[]\n",
    "minmax(A)"
   ]
  },
  {
   "cell_type": "code",
   "execution_count": 33,
   "metadata": {},
   "outputs": [
    {
     "name": "stdout",
     "output_type": "stream",
     "text": [
      "'A(3)'\n",
      "\t'B(3)'\n",
      "\t\t'E(3)'\n",
      "\t\t\t'L(2)'\n",
      "\t\t\t'M(3)'\n",
      "\t\t'F(9)'\n",
      "\t\t\t'N(5)'\n",
      "\t\t\t'O(9)'\n",
      "\t'C(0)'\n",
      "\t\t'G(0)'\n",
      "\t\t\t'P(0)'\n",
      "\t\t'H(7)'\n",
      "\t\t\t'Q(7)'\n",
      "\t\t\t'R(4)'\n",
      "\t'D(2)'\n",
      "\t\t'I(2)'\n",
      "\t\t\t'S(2)'\n",
      "\t\t\t'T(1)'\n",
      "\t\t'J(6)'\n",
      "\t\t\t'U(5)'\n",
      "\t\t\t'V(6)'\n",
      "\n"
     ]
    }
   ],
   "source": [
    "print(print_tree(A))"
   ]
  },
  {
   "cell_type": "code",
   "execution_count": 34,
   "metadata": {},
   "outputs": [
    {
     "name": "stdout",
     "output_type": "stream",
     "text": [
      "Optimal path is: ['A', 'B', 'E', 'M']\n"
     ]
    }
   ],
   "source": [
    "print(f\"Optimal path is: {A.optimal_path}\")"
   ]
  },
  {
   "cell_type": "code",
   "execution_count": null,
   "metadata": {},
   "outputs": [],
   "source": []
  }
 ],
 "metadata": {
  "kernelspec": {
   "display_name": "Python 3 (ipykernel)",
   "language": "python",
   "name": "python3"
  },
  "language_info": {
   "codemirror_mode": {
    "name": "ipython",
    "version": 3
   },
   "file_extension": ".py",
   "mimetype": "text/x-python",
   "name": "python",
   "nbconvert_exporter": "python",
   "pygments_lexer": "ipython3",
   "version": "3.10.5"
  }
 },
 "nbformat": 4,
 "nbformat_minor": 2
}
