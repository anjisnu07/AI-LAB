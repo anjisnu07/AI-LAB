{
 "cells": [
  {
   "cell_type": "code",
   "execution_count": 19,
   "metadata": {},
   "outputs": [],
   "source": [
    "class treenode:\n",
    "    def __init__(self,value):\n",
    "        self.value=value\n",
    "        self.childreen=[]\n",
    "    def add_child(self,child):\n",
    "        self.childreen.append(child)"
   ]
  },
  {
   "cell_type": "code",
   "execution_count": 20,
   "metadata": {},
   "outputs": [],
   "source": [
    "def df_traversal(node):\n",
    "    print(node.value,end=\" \")\n",
    "    for child in node.childreen:\n",
    "        df_traversal(child)"
   ]
  },
  {
   "cell_type": "code",
   "execution_count": 21,
   "metadata": {},
   "outputs": [],
   "source": [
    "node1=treenode(1)\n",
    "node2=treenode(2)\n",
    "node3=treenode(3)\n",
    "node4=treenode(4)\n",
    "node5=treenode(5)\n",
    "node6=treenode(6)\n",
    "node7=treenode(7)\n",
    "node8=treenode(8)\n",
    "node9=treenode(9)\n",
    "node10=treenode(10)\n",
    "node11=treenode(11)\n",
    "node12=treenode(12)"
   ]
  },
  {
   "cell_type": "code",
   "execution_count": 22,
   "metadata": {},
   "outputs": [],
   "source": [
    "node1.add_child(node2)\n",
    "node1.add_child(node3)\n",
    "node1.add_child(node4)\n",
    "node2.add_child(node5)\n",
    "node2.add_child(node6)\n",
    "node4.add_child(node7)\n",
    "node4.add_child(node8)\n",
    "node4.add_child(node9)\n",
    "node8.add_child(node10)\n",
    "node8.add_child(node11)\n",
    "node8.add_child(node12)"
   ]
  },
  {
   "cell_type": "code",
   "execution_count": 23,
   "metadata": {},
   "outputs": [
    {
     "name": "stdout",
     "output_type": "stream",
     "text": [
      "DFS traversal is:\n",
      "1 2 5 6 3 4 7 8 10 11 12 9 "
     ]
    }
   ],
   "source": [
    "print(\"DFS traversal is:\")\n",
    "df_traversal(node1)"
   ]
  },
  {
   "cell_type": "code",
   "execution_count": 24,
   "metadata": {},
   "outputs": [],
   "source": [
    "def depth_first_search(node,target,path):\n",
    "    path.append(node.value)\n",
    "    if(node.value==target):\n",
    "        return True\n",
    "    for child in node.childreen:\n",
    "        if(depth_first_search(child,target,path)):\n",
    "            return True\n",
    "    return False"
   ]
  },
  {
   "cell_type": "code",
   "execution_count": 25,
   "metadata": {},
   "outputs": [],
   "source": [
    "def search_and_print(node, targets):\n",
    "    for target in targets:\n",
    "        path = []\n",
    "        if depth_first_search(node, target, path):\n",
    "            print(f\"{target} FOUND! Path: {path}\")\n",
    "        else:\n",
    "            print(f\"{target} NOT FOUND! Path: {path}\")"
   ]
  },
  {
   "cell_type": "code",
   "execution_count": 27,
   "metadata": {},
   "outputs": [
    {
     "name": "stdout",
     "output_type": "stream",
     "text": [
      "8 FOUND! Path: [1, 2, 5, 6, 3, 4, 7, 8]\n",
      "10 FOUND! Path: [1, 2, 5, 6, 3, 4, 7, 8, 10]\n",
      "13 NOT FOUND! Path: [1, 2, 5, 6, 3, 4, 7, 8, 10, 11, 12, 9]\n"
     ]
    }
   ],
   "source": [
    "search_and_print(node1,[8,10,13])"
   ]
  },
  {
   "cell_type": "code",
   "execution_count": 1,
   "metadata": {},
   "outputs": [
    {
     "name": "stdout",
     "output_type": "stream",
     "text": [
      "DFS 1: 1 2 4 3 5 6 \n",
      "DFS 2: 1 2 4 3 5 6 "
     ]
    }
   ],
   "source": [
    "def dfs(graph, start, visited=None):\n",
    "    if visited is None:\n",
    "        visited = set()\n",
    "    visited.add(start)\n",
    "    print(start, end=' ')\n",
    "\n",
    "    for neighbor in graph[start]:\n",
    "        if neighbor not in visited:\n",
    "            dfs(graph, neighbor, visited)\n",
    "\n",
    "# Define the graph as an adjacency list\n",
    "graph = {\n",
    "    1: [2, 3],\n",
    "    2: [1, 4],\n",
    "    3: [1, 4, 5],\n",
    "    4: [2, 3, 6],\n",
    "    5: [3, 6],\n",
    "    6: [4, 5]\n",
    "}\n",
    "\n",
    "# Perform DFS from node 1\n",
    "print(\"DFS 1:\", end=' ')\n",
    "dfs(graph, 1)\n",
    "print()  # Newline for separation\n",
    "\n",
    "# Reset visited set\n",
    "visited = set()\n",
    "\n",
    "# Perform DFS from node 1 again\n",
    "print(\"DFS 2:\", end=' ')\n",
    "dfs(graph, 1)\n"
   ]
  },
  {
   "cell_type": "code",
   "execution_count": null,
   "metadata": {},
   "outputs": [],
   "source": []
  }
 ],
 "metadata": {
  "kernelspec": {
   "display_name": "Python 3 (ipykernel)",
   "language": "python",
   "name": "python3"
  },
  "language_info": {
   "codemirror_mode": {
    "name": "ipython",
    "version": 3
   },
   "file_extension": ".py",
   "mimetype": "text/x-python",
   "name": "python",
   "nbconvert_exporter": "python",
   "pygments_lexer": "ipython3",
   "version": "3.10.5"
  }
 },
 "nbformat": 4,
 "nbformat_minor": 2
}
