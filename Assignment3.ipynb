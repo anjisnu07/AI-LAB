{
 "cells": [
  {
   "cell_type": "code",
   "execution_count": 1,
   "metadata": {},
   "outputs": [],
   "source": [
    "class treenode:\n",
    "    def __init__(self,value):\n",
    "        self.value=value\n",
    "        self.child=[]\n",
    "    def add_child(self,node):\n",
    "        self.child.append(node)"
   ]
  },
  {
   "cell_type": "code",
   "execution_count": 2,
   "metadata": {},
   "outputs": [],
   "source": [
    "node1=treenode(1)\n",
    "node2=treenode(2)\n",
    "node3=treenode(3)\n",
    "node4=treenode(4)\n",
    "node5=treenode(5)\n",
    "node6=treenode(6)\n",
    "node7=treenode(7)\n",
    "node8=treenode(8)\n",
    "node9=treenode(9)\n",
    "node10=treenode(10)\n",
    "node11=treenode(11)\n",
    "node12=treenode(12)"
   ]
  },
  {
   "cell_type": "code",
   "execution_count": 3,
   "metadata": {},
   "outputs": [],
   "source": [
    "node1.add_child(node2)\n",
    "node1.add_child(node3)\n",
    "node1.add_child(node4)\n",
    "node2.add_child(node5)\n",
    "node2.add_child(node6)\n",
    "node4.add_child(node7)\n",
    "node4.add_child(node8)\n",
    "node4.add_child(node9)\n",
    "node8.add_child(node10)\n",
    "node8.add_child(node11)\n",
    "node8.add_child(node12)"
   ]
  },
  {
   "cell_type": "code",
   "execution_count": 4,
   "metadata": {},
   "outputs": [],
   "source": [
    "from collections import deque\n",
    "def bft(node):\n",
    "    queue=deque([node])\n",
    "    while queue:\n",
    "        curr=queue.popleft()\n",
    "        print(curr.value,end=\" \")\n",
    "        for child in curr.child:\n",
    "            queue.append(child)\n"
   ]
  },
  {
   "cell_type": "code",
   "execution_count": 5,
   "metadata": {},
   "outputs": [
    {
     "name": "stdout",
     "output_type": "stream",
     "text": [
      "1 2 3 4 5 6 7 8 9 10 11 12 "
     ]
    }
   ],
   "source": [
    "bft(node1)"
   ]
  },
  {
   "cell_type": "code",
   "execution_count": 6,
   "metadata": {},
   "outputs": [],
   "source": [
    "def bfs(node,target,path):\n",
    "    queue=deque([node])\n",
    "\n",
    "    while queue:\n",
    "        curr=queue.popleft()\n",
    "        path.append(curr.value)\n",
    "        if(curr.value==target):\n",
    "            return True\n",
    "        for child in curr.child:\n",
    "            queue.append(child)\n",
    "    return False\n",
    "        "
   ]
  },
  {
   "cell_type": "code",
   "execution_count": 7,
   "metadata": {},
   "outputs": [],
   "source": [
    "def path(node,targets):\n",
    "    for target in targets:\n",
    "        p=[]\n",
    "        if(bfs(node,target,p)):\n",
    "            print(f\"Found!,path is:{p}\")\n",
    "        else:\n",
    "            print(f\"Not found!,path is:{p}\")"
   ]
  },
  {
   "cell_type": "code",
   "execution_count": 8,
   "metadata": {},
   "outputs": [
    {
     "name": "stdout",
     "output_type": "stream",
     "text": [
      "Found!,path is:[1, 2, 3, 4, 5, 6, 7, 8]\n",
      "Found!,path is:[1, 2, 3, 4, 5, 6, 7, 8, 9, 10]\n",
      "Not found!,path is:[1, 2, 3, 4, 5, 6, 7, 8, 9, 10, 11, 12]\n"
     ]
    }
   ],
   "source": [
    "path(node1,[8,10,13])"
   ]
  }
 ],
 "metadata": {
  "kernelspec": {
   "display_name": "Python 3 (ipykernel)",
   "language": "python",
   "name": "python3"
  },
  "language_info": {
   "codemirror_mode": {
    "name": "ipython",
    "version": 3
   },
   "file_extension": ".py",
   "mimetype": "text/x-python",
   "name": "python",
   "nbconvert_exporter": "python",
   "pygments_lexer": "ipython3",
   "version": "3.9.13"
  }
 },
 "nbformat": 4,
 "nbformat_minor": 2
}
