{
 "cells": [
  {
   "cell_type": "code",
   "execution_count": 2,
   "metadata": {},
   "outputs": [],
   "source": [
    "from IPython.display import display\n",
    "import pandas as pd\n",
    "import matplotlib.pyplot as plt\n",
    "import math\n",
    "import numpy as np\n"
   ]
  },
  {
   "cell_type": "code",
   "execution_count": 3,
   "metadata": {},
   "outputs": [
    {
     "name": "stdout",
     "output_type": "stream",
     "text": [
      "   sepal_length  sepal_width  petal_length  petal_width      species\n",
      "0           5.1          3.5           1.4          0.2  Iris-setosa\n",
      "1           4.9          3.0           1.4          0.2  Iris-setosa\n",
      "2           4.7          3.2           1.3          0.2  Iris-setosa\n",
      "3           4.6          3.1           1.5          0.2  Iris-setosa\n",
      "4           5.0          3.6           1.4          0.2  Iris-setosa\n"
     ]
    }
   ],
   "source": [
    "\n",
    "df = pd.read_csv(r\"IRIS.csv\")\n",
    "\n",
    "#Display the first few rows\n",
    "print(df.head())"
   ]
  },
  {
   "cell_type": "code",
   "execution_count": 4,
   "metadata": {},
   "outputs": [
    {
     "data": {
      "text/html": [
       "<div>\n",
       "<style scoped>\n",
       "    .dataframe tbody tr th:only-of-type {\n",
       "        vertical-align: middle;\n",
       "    }\n",
       "\n",
       "    .dataframe tbody tr th {\n",
       "        vertical-align: top;\n",
       "    }\n",
       "\n",
       "    .dataframe thead th {\n",
       "        text-align: right;\n",
       "    }\n",
       "</style>\n",
       "<table border=\"1\" class=\"dataframe\">\n",
       "  <thead>\n",
       "    <tr style=\"text-align: right;\">\n",
       "      <th></th>\n",
       "      <th>sepal_length</th>\n",
       "      <th>sepal_width</th>\n",
       "      <th>petal_length</th>\n",
       "      <th>petal_width</th>\n",
       "      <th>species</th>\n",
       "    </tr>\n",
       "  </thead>\n",
       "  <tbody>\n",
       "    <tr>\n",
       "      <th>0</th>\n",
       "      <td>5.1</td>\n",
       "      <td>3.5</td>\n",
       "      <td>1.4</td>\n",
       "      <td>0.2</td>\n",
       "      <td>Iris-setosa</td>\n",
       "    </tr>\n",
       "    <tr>\n",
       "      <th>1</th>\n",
       "      <td>4.9</td>\n",
       "      <td>3.0</td>\n",
       "      <td>1.4</td>\n",
       "      <td>0.2</td>\n",
       "      <td>Iris-setosa</td>\n",
       "    </tr>\n",
       "    <tr>\n",
       "      <th>2</th>\n",
       "      <td>4.7</td>\n",
       "      <td>3.2</td>\n",
       "      <td>1.3</td>\n",
       "      <td>0.2</td>\n",
       "      <td>Iris-setosa</td>\n",
       "    </tr>\n",
       "    <tr>\n",
       "      <th>3</th>\n",
       "      <td>4.6</td>\n",
       "      <td>3.1</td>\n",
       "      <td>1.5</td>\n",
       "      <td>0.2</td>\n",
       "      <td>Iris-setosa</td>\n",
       "    </tr>\n",
       "    <tr>\n",
       "      <th>4</th>\n",
       "      <td>5.0</td>\n",
       "      <td>3.6</td>\n",
       "      <td>1.4</td>\n",
       "      <td>0.2</td>\n",
       "      <td>Iris-setosa</td>\n",
       "    </tr>\n",
       "    <tr>\n",
       "      <th>...</th>\n",
       "      <td>...</td>\n",
       "      <td>...</td>\n",
       "      <td>...</td>\n",
       "      <td>...</td>\n",
       "      <td>...</td>\n",
       "    </tr>\n",
       "    <tr>\n",
       "      <th>145</th>\n",
       "      <td>6.7</td>\n",
       "      <td>3.0</td>\n",
       "      <td>5.2</td>\n",
       "      <td>2.3</td>\n",
       "      <td>Iris-virginica</td>\n",
       "    </tr>\n",
       "    <tr>\n",
       "      <th>146</th>\n",
       "      <td>6.3</td>\n",
       "      <td>2.5</td>\n",
       "      <td>5.0</td>\n",
       "      <td>1.9</td>\n",
       "      <td>Iris-virginica</td>\n",
       "    </tr>\n",
       "    <tr>\n",
       "      <th>147</th>\n",
       "      <td>6.5</td>\n",
       "      <td>3.0</td>\n",
       "      <td>5.2</td>\n",
       "      <td>2.0</td>\n",
       "      <td>Iris-virginica</td>\n",
       "    </tr>\n",
       "    <tr>\n",
       "      <th>148</th>\n",
       "      <td>6.2</td>\n",
       "      <td>3.4</td>\n",
       "      <td>5.4</td>\n",
       "      <td>2.3</td>\n",
       "      <td>Iris-virginica</td>\n",
       "    </tr>\n",
       "    <tr>\n",
       "      <th>149</th>\n",
       "      <td>5.9</td>\n",
       "      <td>3.0</td>\n",
       "      <td>5.1</td>\n",
       "      <td>1.8</td>\n",
       "      <td>Iris-virginica</td>\n",
       "    </tr>\n",
       "  </tbody>\n",
       "</table>\n",
       "<p>150 rows × 5 columns</p>\n",
       "</div>"
      ],
      "text/plain": [
       "     sepal_length  sepal_width  petal_length  petal_width         species\n",
       "0             5.1          3.5           1.4          0.2     Iris-setosa\n",
       "1             4.9          3.0           1.4          0.2     Iris-setosa\n",
       "2             4.7          3.2           1.3          0.2     Iris-setosa\n",
       "3             4.6          3.1           1.5          0.2     Iris-setosa\n",
       "4             5.0          3.6           1.4          0.2     Iris-setosa\n",
       "..            ...          ...           ...          ...             ...\n",
       "145           6.7          3.0           5.2          2.3  Iris-virginica\n",
       "146           6.3          2.5           5.0          1.9  Iris-virginica\n",
       "147           6.5          3.0           5.2          2.0  Iris-virginica\n",
       "148           6.2          3.4           5.4          2.3  Iris-virginica\n",
       "149           5.9          3.0           5.1          1.8  Iris-virginica\n",
       "\n",
       "[150 rows x 5 columns]"
      ]
     },
     "metadata": {},
     "output_type": "display_data"
    }
   ],
   "source": [
    "#Display the whole dataframe in tabular form\n",
    "display(df)"
   ]
  },
  {
   "cell_type": "code",
   "execution_count": 5,
   "metadata": {},
   "outputs": [
    {
     "data": {
      "text/html": [
       "<div>\n",
       "<style scoped>\n",
       "    .dataframe tbody tr th:only-of-type {\n",
       "        vertical-align: middle;\n",
       "    }\n",
       "\n",
       "    .dataframe tbody tr th {\n",
       "        vertical-align: top;\n",
       "    }\n",
       "\n",
       "    .dataframe thead th {\n",
       "        text-align: right;\n",
       "    }\n",
       "</style>\n",
       "<table border=\"1\" class=\"dataframe\">\n",
       "  <thead>\n",
       "    <tr style=\"text-align: right;\">\n",
       "      <th></th>\n",
       "      <th>sepal_length</th>\n",
       "      <th>sepal_width</th>\n",
       "      <th>petal_length</th>\n",
       "      <th>petal_width</th>\n",
       "    </tr>\n",
       "  </thead>\n",
       "  <tbody>\n",
       "    <tr>\n",
       "      <th>count</th>\n",
       "      <td>150.000000</td>\n",
       "      <td>150.000000</td>\n",
       "      <td>150.000000</td>\n",
       "      <td>150.000000</td>\n",
       "    </tr>\n",
       "    <tr>\n",
       "      <th>mean</th>\n",
       "      <td>5.843333</td>\n",
       "      <td>3.054000</td>\n",
       "      <td>3.758667</td>\n",
       "      <td>1.198667</td>\n",
       "    </tr>\n",
       "    <tr>\n",
       "      <th>std</th>\n",
       "      <td>0.828066</td>\n",
       "      <td>0.433594</td>\n",
       "      <td>1.764420</td>\n",
       "      <td>0.763161</td>\n",
       "    </tr>\n",
       "    <tr>\n",
       "      <th>min</th>\n",
       "      <td>4.300000</td>\n",
       "      <td>2.000000</td>\n",
       "      <td>1.000000</td>\n",
       "      <td>0.100000</td>\n",
       "    </tr>\n",
       "    <tr>\n",
       "      <th>25%</th>\n",
       "      <td>5.100000</td>\n",
       "      <td>2.800000</td>\n",
       "      <td>1.600000</td>\n",
       "      <td>0.300000</td>\n",
       "    </tr>\n",
       "    <tr>\n",
       "      <th>50%</th>\n",
       "      <td>5.800000</td>\n",
       "      <td>3.000000</td>\n",
       "      <td>4.350000</td>\n",
       "      <td>1.300000</td>\n",
       "    </tr>\n",
       "    <tr>\n",
       "      <th>75%</th>\n",
       "      <td>6.400000</td>\n",
       "      <td>3.300000</td>\n",
       "      <td>5.100000</td>\n",
       "      <td>1.800000</td>\n",
       "    </tr>\n",
       "    <tr>\n",
       "      <th>max</th>\n",
       "      <td>7.900000</td>\n",
       "      <td>4.400000</td>\n",
       "      <td>6.900000</td>\n",
       "      <td>2.500000</td>\n",
       "    </tr>\n",
       "  </tbody>\n",
       "</table>\n",
       "</div>"
      ],
      "text/plain": [
       "       sepal_length  sepal_width  petal_length  petal_width\n",
       "count    150.000000   150.000000    150.000000   150.000000\n",
       "mean       5.843333     3.054000      3.758667     1.198667\n",
       "std        0.828066     0.433594      1.764420     0.763161\n",
       "min        4.300000     2.000000      1.000000     0.100000\n",
       "25%        5.100000     2.800000      1.600000     0.300000\n",
       "50%        5.800000     3.000000      4.350000     1.300000\n",
       "75%        6.400000     3.300000      5.100000     1.800000\n",
       "max        7.900000     4.400000      6.900000     2.500000"
      ]
     },
     "metadata": {},
     "output_type": "display_data"
    }
   ],
   "source": [
    "#Display the description of the dataset\n",
    "display(df.describe())"
   ]
  },
  {
   "cell_type": "code",
   "execution_count": 7,
   "metadata": {},
   "outputs": [
    {
     "name": "stdout",
     "output_type": "stream",
     "text": [
      "a. Total no. of data points: 150\n"
     ]
    }
   ],
   "source": [
    "#1. Display total number of data points\n",
    "data_count = len(df.axes[0])\n",
    "print(\"a. Total no. of data points: \" + str(data_count))"
   ]
  },
  {
   "cell_type": "code",
   "execution_count": 8,
   "metadata": {},
   "outputs": [
    {
     "name": "stdout",
     "output_type": "stream",
     "text": [
      "\n",
      "b. No. of classes: 3\n"
     ]
    }
   ],
   "source": [
    "#2. Display total no. of classes\n",
    "col_count = len(df.axes[1])\n",
    "class_count = df.nunique(axis=0)[col_count - 1]\n",
    "print(\"\\nb. No. of classes: \" + str(class_count))"
   ]
  },
  {
   "cell_type": "code",
   "execution_count": 9,
   "metadata": {},
   "outputs": [
    {
     "name": "stdout",
     "output_type": "stream",
     "text": [
      "\n",
      "c. Data Distribution:\n",
      "Iris-setosa : 50\n",
      "Iris-versicolor : 50\n",
      "Iris-virginica : 50\n"
     ]
    }
   ],
   "source": [
    "#3. Display data distribution\n",
    "feature_names = []\n",
    "class_names = []\n",
    "class_data_count = []\n",
    "\n",
    "feature_names = df.columns.tolist() #column names are the feature names\n",
    "class_names = df[feature_names[col_count-1]].unique() #class names are the unique values in the last column\n",
    "\n",
    "#get the count of data points for each class using the groupby method\n",
    "for i in range(class_count) :\n",
    "    class_data_count.append(df.groupby(feature_names[col_count-1]).size()[class_names[i]])\n",
    "\n",
    "print(\"\\nc. Data Distribution:\")\n",
    "for i in range(class_count) : \n",
    "    print(class_names[i] + \" : \" + str(class_data_count[i]))"
   ]
  },
  {
   "cell_type": "code",
   "execution_count": 10,
   "metadata": {},
   "outputs": [
    {
     "name": "stdout",
     "output_type": "stream",
     "text": [
      "\n",
      "d. No. of features: 4\n"
     ]
    }
   ],
   "source": [
    "#4. Display the feature count\n",
    "feature_count = col_count - 1\n",
    "print(\"\\nd. No. of features: \" + str(feature_count))"
   ]
  },
  {
   "cell_type": "code",
   "execution_count": 11,
   "metadata": {},
   "outputs": [
    {
     "name": "stdout",
     "output_type": "stream",
     "text": [
      "\n",
      "e. Min_max of the features:\n",
      "sepal_length : 4.3 : 7.9\n",
      "sepal_width : 2.0 : 4.4\n",
      "petal_length : 1.0 : 6.9\n",
      "petal_width : 0.1 : 2.5\n"
     ]
    }
   ],
   "source": [
    "#5. Display the minimum and maximum values of each feature\n",
    "min_values = []\n",
    "max_values = []\n",
    "for i in range(feature_count) :\n",
    "    min_values.append(df[feature_names[i]].min())\n",
    "    max_values.append(df[feature_names[i]].max())\n",
    "print(\"\\ne. Min_max of the features:\")\n",
    "for i in range(feature_count) :\n",
    "    print(feature_names[i] + \" : \" + str(min_values[i]) + \" : \" + str(max_values[i]))\n"
   ]
  },
  {
   "cell_type": "code",
   "execution_count": 12,
   "metadata": {},
   "outputs": [
    {
     "name": "stdout",
     "output_type": "stream",
     "text": [
      "\n",
      "f. Mean & variance of the features:\n",
      "sepal_length : 5.843333333333334 : 0.6856935123042507\n",
      "sepal_width : 3.0540000000000003 : 0.1880040268456376\n",
      "petal_length : 3.758666666666666 : 3.113179418344519\n",
      "petal_width : 1.1986666666666668 : 0.582414317673378\n"
     ]
    }
   ],
   "source": [
    "#6. Display the average and variance values of each feature\n",
    "mean_values = []\n",
    "var_values = []\n",
    "for i in range(feature_count) :\n",
    "    mean_values.append(df[feature_names[i]].mean())\n",
    "    var_values.append(df[feature_names[i]].var())\n",
    "print(\"\\nf. Mean & variance of the features:\")\n",
    "for i in range(feature_count) :\n",
    "    print(feature_names[i] + \" : \" + str(mean_values[i]) + \" : \" + str(var_values[i]))"
   ]
  },
  {
   "cell_type": "code",
   "execution_count": 13,
   "metadata": {},
   "outputs": [
    {
     "name": "stdout",
     "output_type": "stream",
     "text": [
      "\n",
      "g. Classwise min_max of each feature:\n",
      "\n",
      "\n",
      "Class name :Iris-setosa\n",
      "-------------------------------------\n",
      "\tsepal_length : 4.3 : 5.8\n",
      "\tsepal_width : 2.3 : 4.4\n",
      "\tpetal_length : 1.0 : 1.9\n",
      "\tpetal_width : 0.1 : 0.6\n",
      "\n",
      "\n",
      "Class name :Iris-versicolor\n",
      "-------------------------------------\n",
      "\tsepal_length : 4.9 : 7.0\n",
      "\tsepal_width : 2.0 : 3.4\n",
      "\tpetal_length : 3.0 : 5.1\n",
      "\tpetal_width : 1.0 : 1.8\n",
      "\n",
      "\n",
      "Class name :Iris-virginica\n",
      "-------------------------------------\n",
      "\tsepal_length : 4.9 : 7.9\n",
      "\tsepal_width : 2.2 : 3.8\n",
      "\tpetal_length : 4.5 : 6.9\n",
      "\tpetal_width : 1.4 : 2.5\n"
     ]
    }
   ],
   "source": [
    "#7. Display the classwise minimum and maximum values of each feature\n",
    "print(\"\\ng. Classwise min_max of each feature:\")\n",
    "grouped_data = df.groupby(feature_names[col_count-1])\n",
    "for i in range (class_count) :\n",
    "    print(\"\\n\\nClass name :\" + class_names[i]+\"\\n-------------------------------------\")\n",
    "    data_group = grouped_data.get_group(class_names[i])\n",
    "    group_min_values = []\n",
    "    group_max_values = []\n",
    "    for i in range(feature_count) :\n",
    "        group_min_values.append(data_group[feature_names[i]].min())\n",
    "        group_max_values.append(data_group[feature_names[i]].max())\n",
    "    for i in range(feature_count) :\n",
    "        print(\"\\t\" + feature_names[i] + \" : \" + str(group_min_values[i]) + \" : \" + str(group_max_values[i]))"
   ]
  },
  {
   "cell_type": "code",
   "execution_count": null,
   "metadata": {},
   "outputs": [],
   "source": [
    "#8. Display the classwise mean and variance values of each feature\n",
    "print(\"\\nh. Classwise mean & variance of each feature:\")\n",
    "for i in range (class_count) :\n",
    "    print(\"\\n\\nClass name :\" + class_names[i]+\"\\n-------------------------------------\")\n",
    "    data_group = grouped_data.get_group(class_names[i])\n",
    "    group_mean_values = []\n",
    "    group_var_values = []\n",
    "    for i in range(feature_count) :\n",
    "        group_mean_values.append(data_group[feature_names[i]].mean())\n",
    "        group_var_values.append(data_group[feature_names[i]].var())\n",
    "    for i in range(feature_count) :\n",
    "        print(\"\\t\" + feature_names[i] + \" : \" + str(group_mean_values[i]) + \" : \" + str(group_var_values[i]))"
   ]
  },
  {
   "cell_type": "code",
   "execution_count": 14,
   "metadata": {},
   "outputs": [
    {
     "data": {
      "image/png": "[encoded data removed]",
      "text/plain": [
       "<Figure size 640x480 with 1 Axes>"
      ]
     },
     "metadata": {},
     "output_type": "display_data"
    },
    {
     "data": {
      "image/png": "[encoded data removed]",
      "text/plain": [
       "<Figure size 640x480 with 1 Axes>"
      ]
     },
     "metadata": {},
     "output_type": "display_data"
    },
    {
     "data": {
      "image/png": "[encoded data removed]",
      "text/plain": [
       "<Figure size 640x480 with 1 Axes>"
      ]
     },
     "metadata": {},
     "output_type": "display_data"
    },
    {
     "data": {
      "image/png": "[encoded data removed]",
      "text/plain": [
       "<Figure size 640x480 with 1 Axes>"
      ]
     },
     "metadata": {},
     "output_type": "display_data"
    },
    {
     "name": "stdout",
     "output_type": "stream",
     "text": [
      "\n",
      "\n",
      "10. Training data (80%)\n",
      "------------------------\n",
      "       sepal_length  sepal_width  petal_length  petal_width\n",
      "count    120.000000   120.000000    120.000000   120.000000\n",
      "mean       5.830833     3.066667      3.720000     1.187500\n",
      "std        0.819079     0.437205      1.774118     0.769215\n",
      "min        4.300000     2.200000      1.000000     0.100000\n",
      "25%        5.100000     2.800000      1.500000     0.300000\n",
      "50%        5.750000     3.000000      4.300000     1.300000\n",
      "75%        6.400000     3.325000      5.100000     1.800000\n",
      "max        7.900000     4.400000      6.900000     2.500000\n",
      "\n",
      "\n",
      "10. Test data (20%)\n",
      "------------------------\n",
      "       sepal_length  sepal_width  petal_length  petal_width\n",
      "count     30.000000    30.000000     30.000000    30.000000\n",
      "mean       5.893333     3.003333      3.913333     1.243333\n",
      "std        0.875700     0.422214      1.746076     0.749567\n",
      "min        4.400000     2.000000      1.300000     0.200000\n",
      "25%        5.400000     2.800000      1.750000     0.325000\n",
      "50%        5.900000     3.000000      4.400000     1.400000\n",
      "75%        6.375000     3.100000      5.100000     1.800000\n",
      "max        7.700000     4.200000      6.700000     2.400000\n"
     ]
    }
   ],
   "source": [
    "#9. Plotting\n",
    "for i in range (feature_count) :\n",
    "    df.plot(x=feature_names[1], y=feature_names[col_count-1], kind='scatter', title=feature_names[i])\n",
    "plt.show()\n",
    "\n",
    "#10. Splitting\n",
    "df_trng = df.sample(frac = 0.8)\n",
    "df_tst = df.drop(df_trng.index)\n",
    "print(\"\\n\\n10. Training data (80%)\\n------------------------\")\n",
    "print(df_trng.describe())\n",
    "print(\"\\n\\n10. Test data (20%)\\n------------------------\")\n",
    "print(df_tst.describe())"
   ]
  }
 ],
 "metadata": {
  "kernelspec": {
   "display_name": "Python 3",
   "language": "python",
   "name": "python3"
  },
  "language_info": {
   "codemirror_mode": {
    "name": "ipython",
    "version": 3
   },
   "file_extension": ".py",
   "mimetype": "text/x-python",
   "name": "python",
   "nbconvert_exporter": "python",
   "pygments_lexer": "ipython3",
   "version": "3.10.5"
  }
 },
 "nbformat": 4,
 "nbformat_minor": 2
}
